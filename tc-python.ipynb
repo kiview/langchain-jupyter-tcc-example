{
 "cells": [
  {
   "cell_type": "code",
   "execution_count": 1,
   "id": "8caa3424-de45-40ef-b636-5268d4a3e220",
   "metadata": {},
   "outputs": [],
   "source": [
    "from testcontainers.postgres import PostgresContainer\n",
    "import sqlalchemy"
   ]
  },
  {
   "cell_type": "code",
   "execution_count": 4,
   "id": "700641ca",
   "metadata": {},
   "outputs": [
    {
     "name": "stderr",
     "output_type": "stream",
     "text": [
      "using host tcp://127.0.0.1:54400\n",
      "Pulling image postgres:9.5\n",
      "Container started: 228b868162f1\n",
      "Waiting for container <Container: 228b868162f1> with image postgres:9.5 to be ready ...\n"
     ]
    },
    {
     "data": {
      "text/plain": [
       "<testcontainers.postgres.PostgresContainer at 0x11384d6f0>"
      ]
     },
     "execution_count": 4,
     "metadata": {},
     "output_type": "execute_result"
    }
   ],
   "source": [
    "postgres = PostgresContainer(\"postgres:9.5\")\n",
    "postgres.start()"
   ]
  },
  {
   "cell_type": "code",
   "execution_count": 5,
   "id": "72d3ebe1-9cab-4088-9f2e-f9d30907d302",
   "metadata": {},
   "outputs": [
    {
     "name": "stderr",
     "output_type": "stream",
     "text": [
      "Waiting for container <Container: 228b868162f1> with image postgres:9.5 to be ready ...\n"
     ]
    },
    {
     "name": "stdout",
     "output_type": "stream",
     "text": [
      "PostgreSQL 9.5.25 on x86_64-pc-linux-gnu (Debian 9.5.25-1.pgdg90+1), compiled by gcc (Debian 6.3.0-18+deb9u1) 6.3.0 20170516, 64-bit\n"
     ]
    }
   ],
   "source": [
    "engine = sqlalchemy.create_engine(postgres.get_connection_url())\n",
    "with engine.begin() as connection:\n",
    "    result = connection.execute(sqlalchemy.text(\"select version()\"))\n",
    "    version, = result.fetchone()\n",
    "    print(version)"
   ]
  },
  {
   "cell_type": "code",
   "execution_count": null,
   "id": "632f9119-8aa5-4626-8eaa-5ea81b9e3072",
   "metadata": {},
   "outputs": [],
   "source": []
  }
 ],
 "metadata": {
  "kernelspec": {
   "display_name": "Python 3 (ipykernel)",
   "language": "python",
   "name": "python3"
  },
  "language_info": {
   "codemirror_mode": {
    "name": "ipython",
    "version": 3
   },
   "file_extension": ".py",
   "mimetype": "text/x-python",
   "name": "python",
   "nbconvert_exporter": "python",
   "pygments_lexer": "ipython3",
   "version": "3.10.11"
  }
 },
 "nbformat": 4,
 "nbformat_minor": 5
}
